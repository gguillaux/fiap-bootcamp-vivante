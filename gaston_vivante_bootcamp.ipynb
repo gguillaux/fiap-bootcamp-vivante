{
  "nbformat": 4,
  "nbformat_minor": 0,
  "metadata": {
    "colab": {
      "name": "gaston_vivante_bootcamp",
      "provenance": [],
      "collapsed_sections": [],
      "authorship_tag": "ABX9TyMQVsvb9WYqM2hua/SakbrV",
      "include_colab_link": true
    },
    "kernelspec": {
      "name": "python3",
      "display_name": "Python 3"
    }
  },
  "cells": [
    {
      "cell_type": "markdown",
      "metadata": {
        "id": "view-in-github",
        "colab_type": "text"
      },
      "source": [
        "<a href=\"https://colab.research.google.com/github/gguillaux/fiap-bootcamp-vivante/blob/master/gaston_vivante_bootcamp.ipynb\" target=\"_parent\"><img src=\"https://colab.research.google.com/assets/colab-badge.svg\" alt=\"Open In Colab\"/></a>"
      ]
    },
    {
      "cell_type": "markdown",
      "metadata": {
        "id": "GMa58OQH0ecH",
        "colab_type": "text"
      },
      "source": [
        "# Tabelas\n",
        "* Cópia de TÉCNICOS_XLX.xlsx -> descrição dos técnicos que atuaram em cada os\n",
        "* "
      ]
    },
    {
      "cell_type": "code",
      "metadata": {
        "id": "hTYbpcuR1mI4",
        "colab_type": "code",
        "colab": {}
      },
      "source": [
        "!git clone https://github.com/gguillaux/fiap-bootcamp-vivante.git"
      ],
      "execution_count": null,
      "outputs": []
    },
    {
      "cell_type": "code",
      "metadata": {
        "id": "oSd--tC_xMLz",
        "colab_type": "code",
        "colab": {}
      },
      "source": [
        "import os\n",
        "import pandas as pd"
      ],
      "execution_count": 23,
      "outputs": []
    },
    {
      "cell_type": "code",
      "metadata": {
        "id": "BA3eydtnzk9J",
        "colab_type": "code",
        "colab": {}
      },
      "source": [
        "df = pd.read_excel('Roteiros. Busca Simples.xlsx')"
      ],
      "execution_count": 29,
      "outputs": []
    },
    {
      "cell_type": "code",
      "metadata": {
        "id": "w2snSfrz1AHk",
        "colab_type": "code",
        "colab": {
          "base_uri": "https://localhost:8080/",
          "height": 34
        },
        "outputId": "b33b7f31-3eb6-4e56-93c6-95fb33b1b583"
      },
      "source": [
        "df.shape"
      ],
      "execution_count": 30,
      "outputs": [
        {
          "output_type": "execute_result",
          "data": {
            "text/plain": [
              "(732, 7)"
            ]
          },
          "metadata": {
            "tags": []
          },
          "execution_count": 30
        }
      ]
    },
    {
      "cell_type": "code",
      "metadata": {
        "id": "z5nCelf-zlHL",
        "colab_type": "code",
        "colab": {
          "base_uri": "https://localhost:8080/",
          "height": 86
        },
        "outputId": "08ca34e0-69e5-4f25-d264-9b4e6b32b9f2"
      },
      "source": [
        "df.columns"
      ],
      "execution_count": 31,
      "outputs": [
        {
          "output_type": "execute_result",
          "data": {
            "text/plain": [
              "Index(['Roteiro', 'Denominação de Roteiro', 'Tempo de Parada Previsto',\n",
              "       'Atividade', 'Descrição Atividade', 'Classe de Trabalho',\n",
              "       'Descrição Classe de Trabalho'],\n",
              "      dtype='object')"
            ]
          },
          "metadata": {
            "tags": []
          },
          "execution_count": 31
        }
      ]
    },
    {
      "cell_type": "code",
      "metadata": {
        "id": "7CupfL77xpSj",
        "colab_type": "code",
        "colab": {
          "base_uri": "https://localhost:8080/",
          "height": 206
        },
        "outputId": "e44ceb4f-ec2e-4833-bf8b-66de183ed985"
      },
      "source": [
        "df.head()"
      ],
      "execution_count": 32,
      "outputs": [
        {
          "output_type": "execute_result",
          "data": {
            "text/html": [
              "<div>\n",
              "<style scoped>\n",
              "    .dataframe tbody tr th:only-of-type {\n",
              "        vertical-align: middle;\n",
              "    }\n",
              "\n",
              "    .dataframe tbody tr th {\n",
              "        vertical-align: top;\n",
              "    }\n",
              "\n",
              "    .dataframe thead th {\n",
              "        text-align: right;\n",
              "    }\n",
              "</style>\n",
              "<table border=\"1\" class=\"dataframe\">\n",
              "  <thead>\n",
              "    <tr style=\"text-align: right;\">\n",
              "      <th></th>\n",
              "      <th>Roteiro</th>\n",
              "      <th>Denominação de Roteiro</th>\n",
              "      <th>Tempo de Parada Previsto</th>\n",
              "      <th>Atividade</th>\n",
              "      <th>Descrição Atividade</th>\n",
              "      <th>Classe de Trabalho</th>\n",
              "      <th>Descrição Classe de Trabalho</th>\n",
              "    </tr>\n",
              "  </thead>\n",
              "  <tbody>\n",
              "    <tr>\n",
              "      <th>0</th>\n",
              "      <td>AUT.T001.12</td>\n",
              "      <td>TREINAMENTO ANUAL (OPERACIONAL DO SISTEMA DE A...</td>\n",
              "      <td>4.0</td>\n",
              "      <td>TRT</td>\n",
              "      <td>TREINAMENTOS</td>\n",
              "      <td>PRS</td>\n",
              "      <td>PREVENTIVA SISTEMÁTICA</td>\n",
              "    </tr>\n",
              "    <tr>\n",
              "      <th>1</th>\n",
              "      <td>AUT.T002.06</td>\n",
              "      <td>TREINAMENTO SEMESTRAL (ROTINAS OPERACIONAIS DE...</td>\n",
              "      <td>4.0</td>\n",
              "      <td>TRT</td>\n",
              "      <td>TREINAMENTOS</td>\n",
              "      <td>PRS</td>\n",
              "      <td>PREVENTIVA SISTEMÁTICA</td>\n",
              "    </tr>\n",
              "    <tr>\n",
              "      <th>2</th>\n",
              "      <td>AUT.T003.12</td>\n",
              "      <td>TREINAMENTO ANUAL (OPERACIONAL DO SISTEMA DE A...</td>\n",
              "      <td>4.0</td>\n",
              "      <td>TRT</td>\n",
              "      <td>TREINAMENTOS</td>\n",
              "      <td>PRS</td>\n",
              "      <td>PREVENTIVA SISTEMÁTICA</td>\n",
              "    </tr>\n",
              "    <tr>\n",
              "      <th>3</th>\n",
              "      <td>AUT.T004.12</td>\n",
              "      <td>RECICLAGEM ANUAL (NR-35 - TREINAMENTO DE SEGUR...</td>\n",
              "      <td>8.0</td>\n",
              "      <td>TRT</td>\n",
              "      <td>TREINAMENTOS</td>\n",
              "      <td>PRS</td>\n",
              "      <td>PREVENTIVA SISTEMÁTICA</td>\n",
              "    </tr>\n",
              "    <tr>\n",
              "      <th>4</th>\n",
              "      <td>AUT.T005.SD</td>\n",
              "      <td>RECICLAGEM SOB DEMANDA (NR-12 -SEGURANÇA NO TR...</td>\n",
              "      <td>8.0</td>\n",
              "      <td>TRT</td>\n",
              "      <td>TREINAMENTOS</td>\n",
              "      <td>PRS</td>\n",
              "      <td>PREVENTIVA SISTEMÁTICA</td>\n",
              "    </tr>\n",
              "  </tbody>\n",
              "</table>\n",
              "</div>"
            ],
            "text/plain": [
              "       Roteiro  ... Descrição Classe de Trabalho\n",
              "0  AUT.T001.12  ...       PREVENTIVA SISTEMÁTICA\n",
              "1  AUT.T002.06  ...       PREVENTIVA SISTEMÁTICA\n",
              "2  AUT.T003.12  ...       PREVENTIVA SISTEMÁTICA\n",
              "3  AUT.T004.12  ...       PREVENTIVA SISTEMÁTICA\n",
              "4  AUT.T005.SD  ...       PREVENTIVA SISTEMÁTICA\n",
              "\n",
              "[5 rows x 7 columns]"
            ]
          },
          "metadata": {
            "tags": []
          },
          "execution_count": 32
        }
      ]
    },
    {
      "cell_type": "code",
      "metadata": {
        "id": "nQF6j30lxpu7",
        "colab_type": "code",
        "colab": {}
      },
      "source": [
        ""
      ],
      "execution_count": null,
      "outputs": []
    },
    {
      "cell_type": "code",
      "metadata": {
        "id": "siahlPcLxpxj",
        "colab_type": "code",
        "colab": {}
      },
      "source": [
        ""
      ],
      "execution_count": null,
      "outputs": []
    },
    {
      "cell_type": "code",
      "metadata": {
        "id": "oU373z59xpz_",
        "colab_type": "code",
        "colab": {}
      },
      "source": [
        ""
      ],
      "execution_count": null,
      "outputs": []
    },
    {
      "cell_type": "code",
      "metadata": {
        "id": "wNZyd_iqxp2u",
        "colab_type": "code",
        "colab": {},
        "cellView": "form"
      },
      "source": [
        "#@title Default title text\n",
        "from IPython.display import JSON\n",
        "from google.colab import output\n",
        "from subprocess import getoutput\n",
        "import os\n",
        "\n",
        "def shell(command):\n",
        "  if command.startswith('cd'):\n",
        "    path = command.strip().split(maxsplit=1)[1]\n",
        "    os.chdir(path)\n",
        "    return JSON([''])\n",
        "  return JSON([getoutput(command)])\n",
        "output.register_callback('shell', shell)"
      ],
      "execution_count": 7,
      "outputs": []
    },
    {
      "cell_type": "code",
      "metadata": {
        "id": "ABDPctN8xqKZ",
        "colab_type": "code",
        "colab": {
          "base_uri": "https://localhost:8080/",
          "height": 267
        },
        "cellView": "form",
        "outputId": "4299a26e-4a42-4086-be71-80c284eaa779"
      },
      "source": [
        "#@title Colab Shell\n",
        "%%html\n",
        "<div id=term_demo></div>\n",
        "<script src=\"https://code.jquery.com/jquery-latest.js\"></script>\n",
        "<script src=\"https://cdn.jsdelivr.net/npm/jquery.terminal/js/jquery.terminal.min.js\"></script>\n",
        "<link href=\"https://cdn.jsdelivr.net/npm/jquery.terminal/css/jquery.terminal.min.css\" rel=\"stylesheet\"/>\n",
        "<script>\n",
        "  $('#term_demo').terminal(async function(command) {\n",
        "      if (command !== '') {\n",
        "          try {\n",
        "              let res = await google.colab.kernel.invokeFunction('shell', [command])\n",
        "              let out = res.data['application/json'][0]\n",
        "              this.echo(new String(out))\n",
        "          } catch(e) {\n",
        "              this.error(new String(e));\n",
        "          }\n",
        "      } else {\n",
        "          this.echo('');\n",
        "      }\n",
        "  }, {\n",
        "      greetings: 'Welcome to Colab Shell',\n",
        "      name: 'colab_demo',\n",
        "      height: 250,\n",
        "      prompt: 'colab > '\n",
        "  });"
      ],
      "execution_count": 8,
      "outputs": [
        {
          "output_type": "display_data",
          "data": {
            "text/html": [
              "<div id=term_demo></div>\n",
              "<script src=\"https://code.jquery.com/jquery-latest.js\"></script>\n",
              "<script src=\"https://cdn.jsdelivr.net/npm/jquery.terminal/js/jquery.terminal.min.js\"></script>\n",
              "<link href=\"https://cdn.jsdelivr.net/npm/jquery.terminal/css/jquery.terminal.min.css\" rel=\"stylesheet\"/>\n",
              "<script>\n",
              "  $('#term_demo').terminal(async function(command) {\n",
              "      if (command !== '') {\n",
              "          try {\n",
              "              let res = await google.colab.kernel.invokeFunction('shell', [command])\n",
              "              let out = res.data['application/json'][0]\n",
              "              this.echo(new String(out))\n",
              "          } catch(e) {\n",
              "              this.error(new String(e));\n",
              "          }\n",
              "      } else {\n",
              "          this.echo('');\n",
              "      }\n",
              "  }, {\n",
              "      greetings: 'Welcome to Colab Shell',\n",
              "      name: 'colab_demo',\n",
              "      height: 250,\n",
              "      prompt: 'colab > '\n",
              "  });"
            ],
            "text/plain": [
              "<IPython.core.display.HTML object>"
            ]
          },
          "metadata": {
            "tags": []
          }
        }
      ]
    }
  ]
}