{
  "nbformat": 4,
  "nbformat_minor": 0,
  "metadata": {
    "colab": {
      "name": "squalio_vivante_bootcamp_v2",
      "provenance": [],
      "collapsed_sections": [],
      "authorship_tag": "ABX9TyOCkIC0bNps30uhXyP8ebjc",
      "include_colab_link": true
    },
    "kernelspec": {
      "name": "python3",
      "display_name": "Python 3"
    }
  },
  "cells": [
    {
      "cell_type": "markdown",
      "metadata": {
        "id": "view-in-github",
        "colab_type": "text"
      },
      "source": [
        "<a href=\"https://colab.research.google.com/github/gguillaux/fiap-bootcamp-vivante/blob/master/squalio_vivante_bootcamp_v2.ipynb\" target=\"_parent\"><img src=\"https://colab.research.google.com/assets/colab-badge.svg\" alt=\"Open In Colab\"/></a>"
      ]
    },
    {
      "cell_type": "markdown",
      "metadata": {
        "id": "g7QcLNtWI9-m"
      },
      "source": [
        "# 1. Carregar repositório atualizado"
      ]
    },
    {
      "cell_type": "code",
      "metadata": {
        "id": "o984rR2414j2",
        "outputId": "fbc77c47-8136-473b-eb26-a33629716ba4",
        "colab": {
          "base_uri": "https://localhost:8080/",
          "height": 34
        }
      },
      "source": [
        "# !rm -r fiap-bootcamp-vivante\n",
        "!git clone https://github.com/gguillaux/fiap-bootcamp-vivante.git"
      ],
      "execution_count": 1,
      "outputs": [
        {
          "output_type": "stream",
          "text": [
            "fatal: destination path 'fiap-bootcamp-vivante' already exists and is not an empty directory.\n"
          ],
          "name": "stdout"
        }
      ]
    },
    {
      "cell_type": "code",
      "metadata": {
        "id": "hTYbpcuR1mI4",
        "outputId": "e556bdb3-a806-4aed-f1f0-d9d2a10ff65b",
        "colab": {
          "base_uri": "https://localhost:8080/",
          "height": 52
        }
      },
      "source": [
        "!ls fiap-bootcamp-vivante/dataset"
      ],
      "execution_count": 2,
      "outputs": [
        {
          "output_type": "stream",
          "text": [
            "db_ordem_servico_busca_complexa.xlsx  db_roteiros_busca_simples.xlsx\n",
            "db_os_geral.xlsx\t\t      db_tecnicos.xlsx\n"
          ],
          "name": "stdout"
        }
      ]
    },
    {
      "cell_type": "markdown",
      "metadata": {
        "id": "rB-XLluWJFaX"
      },
      "source": [
        "# 2. Importar bibliotecas"
      ]
    },
    {
      "cell_type": "code",
      "metadata": {
        "id": "oSd--tC_xMLz",
        "outputId": "a428f887-0a14-4ce4-e5d5-2803edbe97e4",
        "colab": {
          "base_uri": "https://localhost:8080/",
          "height": 52
        }
      },
      "source": [
        "import os\n",
        "import numpy as np\n",
        "import pandas as pd\n",
        "import seaborn as sns\n",
        "from matplotlib import pyplot as plt"
      ],
      "execution_count": 3,
      "outputs": [
        {
          "output_type": "stream",
          "text": [
            "/usr/local/lib/python3.6/dist-packages/statsmodels/tools/_testing.py:19: FutureWarning: pandas.util.testing is deprecated. Use the functions in the public API at pandas.testing instead.\n",
            "  import pandas.util.testing as tm\n"
          ],
          "name": "stderr"
        }
      ]
    },
    {
      "cell_type": "code",
      "metadata": {
        "id": "QiSOBnqNk3MC"
      },
      "source": [
        "os.chdir('fiap-bootcamp-vivante/dataset')"
      ],
      "execution_count": 4,
      "outputs": []
    },
    {
      "cell_type": "markdown",
      "metadata": {
        "id": "0mAU4pyUJKVy"
      },
      "source": [
        "# 3. Validação superficial dos dados"
      ]
    },
    {
      "cell_type": "code",
      "metadata": {
        "id": "xQO8BkAUkJV9",
        "outputId": "1637fc4d-3c0d-4b02-896e-39d76f94746d",
        "colab": {
          "base_uri": "https://localhost:8080/",
          "height": 739
        }
      },
      "source": [
        "pd.read_excel('db_ordem_servico_busca_complexa.xlsx').head(3).T"
      ],
      "execution_count": 5,
      "outputs": [
        {
          "output_type": "execute_result",
          "data": {
            "text/html": [
              "<div>\n",
              "<style scoped>\n",
              "    .dataframe tbody tr th:only-of-type {\n",
              "        vertical-align: middle;\n",
              "    }\n",
              "\n",
              "    .dataframe tbody tr th {\n",
              "        vertical-align: top;\n",
              "    }\n",
              "\n",
              "    .dataframe thead th {\n",
              "        text-align: right;\n",
              "    }\n",
              "</style>\n",
              "<table border=\"1\" class=\"dataframe\">\n",
              "  <thead>\n",
              "    <tr style=\"text-align: right;\">\n",
              "      <th></th>\n",
              "      <th>0</th>\n",
              "      <th>1</th>\n",
              "      <th>2</th>\n",
              "    </tr>\n",
              "  </thead>\n",
              "  <tbody>\n",
              "    <tr>\n",
              "      <th>Número OS</th>\n",
              "      <td>0</td>\n",
              "      <td>204472</td>\n",
              "      <td>215523</td>\n",
              "    </tr>\n",
              "    <tr>\n",
              "      <th>Denominação OS</th>\n",
              "      <td>DDS (DIÁLOGO DIÁRIO DE SEGURANÇA)</td>\n",
              "      <td>TREINAMENTO SEMESTRAL (QGBT'S - OPERAÇÃO E MAN...</td>\n",
              "      <td>PIA VAZANDO</td>\n",
              "    </tr>\n",
              "    <tr>\n",
              "      <th>Ativo</th>\n",
              "      <td>HMBHPA1SSSRE03</td>\n",
              "      <td>HMEB-ELE.T004</td>\n",
              "      <td>HMBHPA1PVWC014</td>\n",
              "    </tr>\n",
              "    <tr>\n",
              "      <th>Descrição Ativo</th>\n",
              "      <td>SALA DE REUNIÃO VIVANTE</td>\n",
              "      <td>TREINAMENTO SEMESTRAL (QGBT'S - OPERAÇÃO E MAN...</td>\n",
              "      <td>SANITÁRIO FEMININO SALA DE AULA 01</td>\n",
              "    </tr>\n",
              "    <tr>\n",
              "      <th>Estado OS</th>\n",
              "      <td>FC</td>\n",
              "      <td>FC</td>\n",
              "      <td>FC</td>\n",
              "    </tr>\n",
              "    <tr>\n",
              "      <th>Denominação Estado OS</th>\n",
              "      <td>Fechada</td>\n",
              "      <td>Fechada</td>\n",
              "      <td>Fechada</td>\n",
              "    </tr>\n",
              "    <tr>\n",
              "      <th>Classe de Trabalho</th>\n",
              "      <td>TRT</td>\n",
              "      <td>PRS</td>\n",
              "      <td>COR</td>\n",
              "    </tr>\n",
              "    <tr>\n",
              "      <th>Descrição Classe de Trabalho</th>\n",
              "      <td>TREINAMENTO</td>\n",
              "      <td>PREVENTIVA SISTEMÁTICA</td>\n",
              "      <td>CORRETIVA EMERGÊNCIAL</td>\n",
              "    </tr>\n",
              "    <tr>\n",
              "      <th>Atividade</th>\n",
              "      <td>TRT</td>\n",
              "      <td>TRT</td>\n",
              "      <td>HIDR</td>\n",
              "    </tr>\n",
              "    <tr>\n",
              "      <th>Descrição Atividade</th>\n",
              "      <td>TREINAMENTOS</td>\n",
              "      <td>TREINAMENTOS</td>\n",
              "      <td>HIDRAULICA</td>\n",
              "    </tr>\n",
              "    <tr>\n",
              "      <th>Data da Criação</th>\n",
              "      <td>2020-04-24 15:19:53.987000</td>\n",
              "      <td>2019-04-21 15:06:37.617000</td>\n",
              "      <td>2020-01-22 13:50:40.510000</td>\n",
              "    </tr>\n",
              "    <tr>\n",
              "      <th>Data/Hora Abertura</th>\n",
              "      <td>2020-04-23 19:00:00</td>\n",
              "      <td>2020-01-01 06:00:00</td>\n",
              "      <td>2020-01-22 13:46:00</td>\n",
              "    </tr>\n",
              "    <tr>\n",
              "      <th>Data/Hora de Conclusão</th>\n",
              "      <td>2020-04-23 20:00:00</td>\n",
              "      <td>2020-01-01 06:01:00</td>\n",
              "      <td>2020-01-22 14:07:00</td>\n",
              "    </tr>\n",
              "    <tr>\n",
              "      <th>Previsão 1º Atend.</th>\n",
              "      <td>2020-04-23 19:30:00</td>\n",
              "      <td>2019-07-01 06:00:00</td>\n",
              "      <td>2020-01-22 14:16:00</td>\n",
              "    </tr>\n",
              "    <tr>\n",
              "      <th>Roteiro</th>\n",
              "      <td>NaN</td>\n",
              "      <td>ELE.T004.06</td>\n",
              "      <td>NaN</td>\n",
              "    </tr>\n",
              "    <tr>\n",
              "      <th>Descrição Roteiro</th>\n",
              "      <td>NaN</td>\n",
              "      <td>TREINAMENTO SEMESTRAL (QGBT'S - OPERAÇÃO E MAN...</td>\n",
              "      <td>NaN</td>\n",
              "    </tr>\n",
              "    <tr>\n",
              "      <th>Data Início Trabalho</th>\n",
              "      <td>2020-04-23 19:31:00</td>\n",
              "      <td>2020-01-01 06:00:00</td>\n",
              "      <td>2020-01-22 13:52:00</td>\n",
              "    </tr>\n",
              "    <tr>\n",
              "      <th>Data Final Trabalho</th>\n",
              "      <td>2020-04-23 20:00:00</td>\n",
              "      <td>2020-01-01 06:01:00</td>\n",
              "      <td>2020-01-22 14:07:00</td>\n",
              "    </tr>\n",
              "    <tr>\n",
              "      <th>Tempo Trabalho Feedback M.Obra</th>\n",
              "      <td>0.483333</td>\n",
              "      <td>0.0166667</td>\n",
              "      <td>0.25</td>\n",
              "    </tr>\n",
              "    <tr>\n",
              "      <th>Tempo Trabalho Convertido</th>\n",
              "      <td>00:29:00</td>\n",
              "      <td>00:01:00</td>\n",
              "      <td>00:15:00</td>\n",
              "    </tr>\n",
              "    <tr>\n",
              "      <th>Técnico</th>\n",
              "      <td>VB221378</td>\n",
              "      <td>VB225518</td>\n",
              "      <td>vb104104</td>\n",
              "    </tr>\n",
              "    <tr>\n",
              "      <th>Tempo Previsto</th>\n",
              "      <td>3</td>\n",
              "      <td>NaN</td>\n",
              "      <td>3</td>\n",
              "    </tr>\n",
              "  </tbody>\n",
              "</table>\n",
              "</div>"
            ],
            "text/plain": [
              "                                                                0  ...                                   2\n",
              "Número OS                                                       0  ...                              215523\n",
              "Denominação OS                  DDS (DIÁLOGO DIÁRIO DE SEGURANÇA)  ...                         PIA VAZANDO\n",
              "Ativo                                              HMBHPA1SSSRE03  ...                      HMBHPA1PVWC014\n",
              "Descrição Ativo                           SALA DE REUNIÃO VIVANTE  ...  SANITÁRIO FEMININO SALA DE AULA 01\n",
              "Estado OS                                                      FC  ...                                  FC\n",
              "Denominação Estado OS                                     Fechada  ...                             Fechada\n",
              "Classe de Trabalho                                            TRT  ...                                 COR\n",
              "Descrição Classe de Trabalho                          TREINAMENTO  ...               CORRETIVA EMERGÊNCIAL\n",
              "Atividade                                                     TRT  ...                                HIDR\n",
              "Descrição Atividade                                  TREINAMENTOS  ...                          HIDRAULICA\n",
              "Data da Criação                        2020-04-24 15:19:53.987000  ...          2020-01-22 13:50:40.510000\n",
              "Data/Hora Abertura                            2020-04-23 19:00:00  ...                 2020-01-22 13:46:00\n",
              "Data/Hora de Conclusão                        2020-04-23 20:00:00  ...                 2020-01-22 14:07:00\n",
              "Previsão 1º Atend.                            2020-04-23 19:30:00  ...                 2020-01-22 14:16:00\n",
              "Roteiro                                                       NaN  ...                                 NaN\n",
              "Descrição Roteiro                                             NaN  ...                                 NaN\n",
              "Data Início Trabalho                          2020-04-23 19:31:00  ...                 2020-01-22 13:52:00\n",
              "Data Final Trabalho                           2020-04-23 20:00:00  ...                 2020-01-22 14:07:00\n",
              "Tempo Trabalho Feedback M.Obra                           0.483333  ...                                0.25\n",
              "Tempo Trabalho Convertido                                00:29:00  ...                            00:15:00\n",
              "Técnico                                                  VB221378  ...                            vb104104\n",
              "Tempo Previsto                                                  3  ...                                   3\n",
              "\n",
              "[22 rows x 3 columns]"
            ]
          },
          "metadata": {
            "tags": []
          },
          "execution_count": 5
        }
      ]
    },
    {
      "cell_type": "code",
      "metadata": {
        "id": "LjDgoNt4kJoU",
        "outputId": "489ce362-45cf-423b-c1dd-9514f4d5d79d",
        "colab": {
          "base_uri": "https://localhost:8080/",
          "height": 983
        }
      },
      "source": [
        "pd.read_excel('db_os_geral.xlsx').head().head(5).T"
      ],
      "execution_count": 6,
      "outputs": [
        {
          "output_type": "execute_result",
          "data": {
            "text/html": [
              "<div>\n",
              "<style scoped>\n",
              "    .dataframe tbody tr th:only-of-type {\n",
              "        vertical-align: middle;\n",
              "    }\n",
              "\n",
              "    .dataframe tbody tr th {\n",
              "        vertical-align: top;\n",
              "    }\n",
              "\n",
              "    .dataframe thead th {\n",
              "        text-align: right;\n",
              "    }\n",
              "</style>\n",
              "<table border=\"1\" class=\"dataframe\">\n",
              "  <thead>\n",
              "    <tr style=\"text-align: right;\">\n",
              "      <th></th>\n",
              "      <th>0</th>\n",
              "      <th>1</th>\n",
              "      <th>2</th>\n",
              "      <th>3</th>\n",
              "      <th>4</th>\n",
              "    </tr>\n",
              "  </thead>\n",
              "  <tbody>\n",
              "    <tr>\n",
              "      <th>NUM_OS</th>\n",
              "      <td>204472</td>\n",
              "      <td>247489</td>\n",
              "      <td>247490</td>\n",
              "      <td>247491</td>\n",
              "      <td>247492</td>\n",
              "    </tr>\n",
              "    <tr>\n",
              "      <th>Ativo</th>\n",
              "      <td>HMEB-ELE.T004</td>\n",
              "      <td>1E01</td>\n",
              "      <td>1E01</td>\n",
              "      <td>1E02</td>\n",
              "      <td>1E02</td>\n",
              "    </tr>\n",
              "    <tr>\n",
              "      <th>Descrição Ativo</th>\n",
              "      <td>TREINAMENTO SEMESTRAL (QGBT'S - OPERAÇÃO E MAN...</td>\n",
              "      <td>ESFIGMOMANOMETRO DE PEDESTAL - 608902-N/A</td>\n",
              "      <td>ESFIGMOMANOMETRO DE PEDESTAL - 608902-N/A</td>\n",
              "      <td>ESFIGMOMANOMETRO DE PEDESTAL - 611223-N/A</td>\n",
              "      <td>ESFIGMOMANOMETRO DE PEDESTAL - 611223-N/A</td>\n",
              "    </tr>\n",
              "    <tr>\n",
              "      <th>Classe de equipamento</th>\n",
              "      <td>GADM</td>\n",
              "      <td>ESFIP</td>\n",
              "      <td>ESFIP</td>\n",
              "      <td>ESFIP</td>\n",
              "      <td>ESFIP</td>\n",
              "    </tr>\n",
              "    <tr>\n",
              "      <th>Descrição Classe de equipamento</th>\n",
              "      <td>GERÊNCIA E ADMINISTRACAO</td>\n",
              "      <td>ESFIGMOMANOMETRO DE PEDESTAL</td>\n",
              "      <td>ESFIGMOMANOMETRO DE PEDESTAL</td>\n",
              "      <td>ESFIGMOMANOMETRO DE PEDESTAL</td>\n",
              "      <td>ESFIGMOMANOMETRO DE PEDESTAL</td>\n",
              "    </tr>\n",
              "    <tr>\n",
              "      <th>company</th>\n",
              "      <td>HMEB</td>\n",
              "      <td>HMEB</td>\n",
              "      <td>HMEB</td>\n",
              "      <td>HMEB</td>\n",
              "      <td>HMEB</td>\n",
              "    </tr>\n",
              "    <tr>\n",
              "      <th>completionScheduled</th>\n",
              "      <td>NaN</td>\n",
              "      <td>NaN</td>\n",
              "      <td>NaN</td>\n",
              "      <td>NaN</td>\n",
              "      <td>NaN</td>\n",
              "    </tr>\n",
              "    <tr>\n",
              "      <th>Solicitante_OS</th>\n",
              "      <td>DB210893</td>\n",
              "      <td>DB210893</td>\n",
              "      <td>DB210893</td>\n",
              "      <td>DB210893</td>\n",
              "      <td>DB210893</td>\n",
              "    </tr>\n",
              "    <tr>\n",
              "      <th>DENOM_OS</th>\n",
              "      <td>TREINAMENTO SEMESTRAL (QGBT'S - OPERAÇÃO E MAN...</td>\n",
              "      <td>INTERVENÇAO CRITICA ENGENHARIA CLINICA ANUAL C...</td>\n",
              "      <td>PREVENTIVA DE ENGENHARIA CLINICA  SEMESTRAL - ...</td>\n",
              "      <td>INTERVENÇAO CRITICA ENGENHARIA CLINICA ANUAL C...</td>\n",
              "      <td>PREVENTIVA DE ENGENHARIA CLINICA  SEMESTRAL - ...</td>\n",
              "    </tr>\n",
              "    <tr>\n",
              "      <th>ESTADO_OS</th>\n",
              "      <td>Fechada</td>\n",
              "      <td>Fechada</td>\n",
              "      <td>Fechada</td>\n",
              "      <td>Fechada</td>\n",
              "      <td>Fechada</td>\n",
              "    </tr>\n",
              "    <tr>\n",
              "      <th>ORIGEM_OS</th>\n",
              "      <td>2</td>\n",
              "      <td>2</td>\n",
              "      <td>2</td>\n",
              "      <td>2</td>\n",
              "      <td>2</td>\n",
              "    </tr>\n",
              "    <tr>\n",
              "      <th>ABERTURA_OS</th>\n",
              "      <td>2020-01-01 06:00:00.000</td>\n",
              "      <td>2020-01-01 06:00:00.000</td>\n",
              "      <td>2020-01-01 06:00:00.000</td>\n",
              "      <td>2020-01-01 06:00:00.000</td>\n",
              "      <td>2020-01-01 06:00:00.000</td>\n",
              "    </tr>\n",
              "    <tr>\n",
              "      <th>PREV_ATENDIMENTO</th>\n",
              "      <td>2019-07-01 06:00:00.000</td>\n",
              "      <td>2020-01-01 06:00:00.000</td>\n",
              "      <td>2020-01-01 06:00:00.000</td>\n",
              "      <td>2020-01-01 06:00:00.000</td>\n",
              "      <td>2020-01-01 06:00:00.000</td>\n",
              "    </tr>\n",
              "    <tr>\n",
              "      <th>DATA_CRIACAO</th>\n",
              "      <td>2019-04-21 15:06:37.617</td>\n",
              "      <td>2019-12-26 14:01:22.877</td>\n",
              "      <td>2019-12-26 14:01:23.113</td>\n",
              "      <td>2019-12-26 14:01:23.423</td>\n",
              "      <td>2019-12-26 14:01:23.690</td>\n",
              "    </tr>\n",
              "    <tr>\n",
              "      <th>ESTADO_VL</th>\n",
              "      <td>VL</td>\n",
              "      <td>VL</td>\n",
              "      <td>VL</td>\n",
              "      <td>VL</td>\n",
              "      <td>VL</td>\n",
              "    </tr>\n",
              "    <tr>\n",
              "      <th>DATA_VL</th>\n",
              "      <td>2020-02-10 10:54:22.623</td>\n",
              "      <td>2020-01-06 17:27:54.420</td>\n",
              "      <td>2020-01-13 12:56:46.453</td>\n",
              "      <td>2020-01-06 17:27:54.297</td>\n",
              "      <td>2020-01-13 12:56:46.327</td>\n",
              "    </tr>\n",
              "    <tr>\n",
              "      <th>ESTADO_CO</th>\n",
              "      <td>CO</td>\n",
              "      <td>CO</td>\n",
              "      <td>CO</td>\n",
              "      <td>CO</td>\n",
              "      <td>CO</td>\n",
              "    </tr>\n",
              "    <tr>\n",
              "      <th>DATA_CO</th>\n",
              "      <td>2020-02-07 15:15:55.373</td>\n",
              "      <td>2020-01-06 14:46:24.917</td>\n",
              "      <td>2020-01-12 09:38:22.547</td>\n",
              "      <td>2020-01-06 14:35:38.383</td>\n",
              "      <td>2020-01-12 12:56:32.960</td>\n",
              "    </tr>\n",
              "    <tr>\n",
              "      <th>DENOM_CLASSE_TRAB</th>\n",
              "      <td>PREVENTIVA SISTEMÁTICA</td>\n",
              "      <td>PREVENTIVA SISTEMÁTICA</td>\n",
              "      <td>PREVENTIVA SISTEMÁTICA</td>\n",
              "      <td>PREVENTIVA SISTEMÁTICA</td>\n",
              "      <td>PREVENTIVA SISTEMÁTICA</td>\n",
              "    </tr>\n",
              "    <tr>\n",
              "      <th>priority</th>\n",
              "      <td>NaN</td>\n",
              "      <td>NaN</td>\n",
              "      <td>NaN</td>\n",
              "      <td>NaN</td>\n",
              "      <td>NaN</td>\n",
              "    </tr>\n",
              "    <tr>\n",
              "      <th>ATIVIDADE</th>\n",
              "      <td>TREINAMENTOS</td>\n",
              "      <td>ENGENHARIA CLÍNICA</td>\n",
              "      <td>ENGENHARIA CLÍNICA</td>\n",
              "      <td>ENGENHARIA CLÍNICA</td>\n",
              "      <td>ENGENHARIA CLÍNICA</td>\n",
              "    </tr>\n",
              "    <tr>\n",
              "      <th>UNIDADE_NEGOCIO</th>\n",
              "      <td>HMEB</td>\n",
              "      <td>HMEBEC</td>\n",
              "      <td>HMEBEC</td>\n",
              "      <td>HMEBEC</td>\n",
              "      <td>HMEBEC</td>\n",
              "    </tr>\n",
              "    <tr>\n",
              "      <th>assetName</th>\n",
              "      <td>TREINAMENTO SEMESTRAL (QGBT'S - OPERAÇÃO E MAN...</td>\n",
              "      <td>ESFIGMOMANOMETRO DE PEDESTAL - 608902-N/A</td>\n",
              "      <td>ESFIGMOMANOMETRO DE PEDESTAL - 608902-N/A</td>\n",
              "      <td>ESFIGMOMANOMETRO DE PEDESTAL - 611223-N/A</td>\n",
              "      <td>ESFIGMOMANOMETRO DE PEDESTAL - 611223-N/A</td>\n",
              "    </tr>\n",
              "    <tr>\n",
              "      <th>parentAssetN3</th>\n",
              "      <td>HMEB-ELE.T004</td>\n",
              "      <td>HMBHPA1PV</td>\n",
              "      <td>HMBHPA1PV</td>\n",
              "      <td>HMBHPA1PV</td>\n",
              "      <td>HMBHPA1PV</td>\n",
              "    </tr>\n",
              "    <tr>\n",
              "      <th>parentAssetNameN3</th>\n",
              "      <td>TREINAMENTO SEMESTRAL (QGBT'S - OPERAÇÃO E MAN...</td>\n",
              "      <td>1° PAVIMENTO</td>\n",
              "      <td>1° PAVIMENTO</td>\n",
              "      <td>1° PAVIMENTO</td>\n",
              "      <td>1° PAVIMENTO</td>\n",
              "    </tr>\n",
              "    <tr>\n",
              "      <th>ROTEIRO</th>\n",
              "      <td>ELE.T004.06</td>\n",
              "      <td>ICAANCALIB</td>\n",
              "      <td>PVNSMESFIG</td>\n",
              "      <td>ICAANCALIB</td>\n",
              "      <td>PVNSMESFIG</td>\n",
              "    </tr>\n",
              "    <tr>\n",
              "      <th>Data_Real</th>\n",
              "      <td>2019-07-01 06:00:00.000</td>\n",
              "      <td>2020-01-01 06:00:00.000</td>\n",
              "      <td>2020-01-01 06:00:00.000</td>\n",
              "      <td>2020-01-01 06:00:00.000</td>\n",
              "      <td>2020-01-01 06:00:00.000</td>\n",
              "    </tr>\n",
              "  </tbody>\n",
              "</table>\n",
              "</div>"
            ],
            "text/plain": [
              "                                                                                 0  ...                                                  4\n",
              "NUM_OS                                                                      204472  ...                                             247492\n",
              "Ativo                                                                HMEB-ELE.T004  ...                                               1E02\n",
              "Descrição Ativo                  TREINAMENTO SEMESTRAL (QGBT'S - OPERAÇÃO E MAN...  ...          ESFIGMOMANOMETRO DE PEDESTAL - 611223-N/A\n",
              "Classe de equipamento                                                         GADM  ...                                              ESFIP\n",
              "Descrição Classe de equipamento                           GERÊNCIA E ADMINISTRACAO  ...                       ESFIGMOMANOMETRO DE PEDESTAL\n",
              "company                                                                       HMEB  ...                                               HMEB\n",
              "completionScheduled                                                            NaN  ...                                                NaN\n",
              "Solicitante_OS                                                            DB210893  ...                                           DB210893\n",
              "DENOM_OS                         TREINAMENTO SEMESTRAL (QGBT'S - OPERAÇÃO E MAN...  ...  PREVENTIVA DE ENGENHARIA CLINICA  SEMESTRAL - ...\n",
              "ESTADO_OS                                                                  Fechada  ...                                            Fechada\n",
              "ORIGEM_OS                                                                        2  ...                                                  2\n",
              "ABERTURA_OS                                                2020-01-01 06:00:00.000  ...                            2020-01-01 06:00:00.000\n",
              "PREV_ATENDIMENTO                                           2019-07-01 06:00:00.000  ...                            2020-01-01 06:00:00.000\n",
              "DATA_CRIACAO                                               2019-04-21 15:06:37.617  ...                            2019-12-26 14:01:23.690\n",
              "ESTADO_VL                                                                       VL  ...                                                 VL\n",
              "DATA_VL                                                    2020-02-10 10:54:22.623  ...                            2020-01-13 12:56:46.327\n",
              "ESTADO_CO                                                                       CO  ...                                                 CO\n",
              "DATA_CO                                                    2020-02-07 15:15:55.373  ...                            2020-01-12 12:56:32.960\n",
              "DENOM_CLASSE_TRAB                                           PREVENTIVA SISTEMÁTICA  ...                             PREVENTIVA SISTEMÁTICA\n",
              "priority                                                                       NaN  ...                                                NaN\n",
              "ATIVIDADE                                                             TREINAMENTOS  ...                                 ENGENHARIA CLÍNICA\n",
              "UNIDADE_NEGOCIO                                                               HMEB  ...                                             HMEBEC\n",
              "assetName                        TREINAMENTO SEMESTRAL (QGBT'S - OPERAÇÃO E MAN...  ...          ESFIGMOMANOMETRO DE PEDESTAL - 611223-N/A\n",
              "parentAssetN3                                                        HMEB-ELE.T004  ...                                          HMBHPA1PV\n",
              "parentAssetNameN3                TREINAMENTO SEMESTRAL (QGBT'S - OPERAÇÃO E MAN...  ...                                       1° PAVIMENTO\n",
              "ROTEIRO                                                                ELE.T004.06  ...                                         PVNSMESFIG\n",
              "Data_Real                                                  2019-07-01 06:00:00.000  ...                            2020-01-01 06:00:00.000\n",
              "\n",
              "[27 rows x 5 columns]"
            ]
          },
          "metadata": {
            "tags": []
          },
          "execution_count": 6
        }
      ]
    },
    {
      "cell_type": "code",
      "metadata": {
        "id": "i6AnGgKykJxt",
        "outputId": "568ecd89-dfab-4502-9894-cfaf6ee07c7b",
        "colab": {
          "base_uri": "https://localhost:8080/",
          "height": 269
        }
      },
      "source": [
        "pd.read_excel('db_roteiros_busca_simples.xlsx').head().head(3).T"
      ],
      "execution_count": 7,
      "outputs": [
        {
          "output_type": "execute_result",
          "data": {
            "text/html": [
              "<div>\n",
              "<style scoped>\n",
              "    .dataframe tbody tr th:only-of-type {\n",
              "        vertical-align: middle;\n",
              "    }\n",
              "\n",
              "    .dataframe tbody tr th {\n",
              "        vertical-align: top;\n",
              "    }\n",
              "\n",
              "    .dataframe thead th {\n",
              "        text-align: right;\n",
              "    }\n",
              "</style>\n",
              "<table border=\"1\" class=\"dataframe\">\n",
              "  <thead>\n",
              "    <tr style=\"text-align: right;\">\n",
              "      <th></th>\n",
              "      <th>0</th>\n",
              "      <th>1</th>\n",
              "      <th>2</th>\n",
              "    </tr>\n",
              "  </thead>\n",
              "  <tbody>\n",
              "    <tr>\n",
              "      <th>Roteiro</th>\n",
              "      <td>AUT.T001.12</td>\n",
              "      <td>AUT.T002.06</td>\n",
              "      <td>AUT.T003.12</td>\n",
              "    </tr>\n",
              "    <tr>\n",
              "      <th>Denominação de Roteiro</th>\n",
              "      <td>TREINAMENTO ANUAL (OPERACIONAL DO SISTEMA DE A...</td>\n",
              "      <td>TREINAMENTO SEMESTRAL (ROTINAS OPERACIONAIS DE...</td>\n",
              "      <td>TREINAMENTO ANUAL (OPERACIONAL DO SISTEMA DE A...</td>\n",
              "    </tr>\n",
              "    <tr>\n",
              "      <th>Tempo de Parada Previsto</th>\n",
              "      <td>4</td>\n",
              "      <td>4</td>\n",
              "      <td>4</td>\n",
              "    </tr>\n",
              "    <tr>\n",
              "      <th>Atividade</th>\n",
              "      <td>TRT</td>\n",
              "      <td>TRT</td>\n",
              "      <td>TRT</td>\n",
              "    </tr>\n",
              "    <tr>\n",
              "      <th>Descrição Atividade</th>\n",
              "      <td>TREINAMENTOS</td>\n",
              "      <td>TREINAMENTOS</td>\n",
              "      <td>TREINAMENTOS</td>\n",
              "    </tr>\n",
              "    <tr>\n",
              "      <th>Classe de Trabalho</th>\n",
              "      <td>PRS</td>\n",
              "      <td>PRS</td>\n",
              "      <td>PRS</td>\n",
              "    </tr>\n",
              "    <tr>\n",
              "      <th>Descrição Classe de Trabalho</th>\n",
              "      <td>PREVENTIVA SISTEMÁTICA</td>\n",
              "      <td>PREVENTIVA SISTEMÁTICA</td>\n",
              "      <td>PREVENTIVA SISTEMÁTICA</td>\n",
              "    </tr>\n",
              "  </tbody>\n",
              "</table>\n",
              "</div>"
            ],
            "text/plain": [
              "                                                                              0  ...                                                  2\n",
              "Roteiro                                                             AUT.T001.12  ...                                        AUT.T003.12\n",
              "Denominação de Roteiro        TREINAMENTO ANUAL (OPERACIONAL DO SISTEMA DE A...  ...  TREINAMENTO ANUAL (OPERACIONAL DO SISTEMA DE A...\n",
              "Tempo de Parada Previsto                                                      4  ...                                                  4\n",
              "Atividade                                                                   TRT  ...                                                TRT\n",
              "Descrição Atividade                                                TREINAMENTOS  ...                                       TREINAMENTOS\n",
              "Classe de Trabalho                                                          PRS  ...                                                PRS\n",
              "Descrição Classe de Trabalho                             PREVENTIVA SISTEMÁTICA  ...                             PREVENTIVA SISTEMÁTICA\n",
              "\n",
              "[7 rows x 3 columns]"
            ]
          },
          "metadata": {
            "tags": []
          },
          "execution_count": 7
        }
      ]
    },
    {
      "cell_type": "code",
      "metadata": {
        "id": "M0vBC9aTkJ5M",
        "outputId": "cfadac83-9da1-4780-ab84-6f97348f3293",
        "colab": {
          "base_uri": "https://localhost:8080/",
          "height": 363
        }
      },
      "source": [
        "pd.read_excel('db_tecnicos.xlsx').head().head(3).T"
      ],
      "execution_count": 8,
      "outputs": [
        {
          "output_type": "execute_result",
          "data": {
            "text/html": [
              "<div>\n",
              "<style scoped>\n",
              "    .dataframe tbody tr th:only-of-type {\n",
              "        vertical-align: middle;\n",
              "    }\n",
              "\n",
              "    .dataframe tbody tr th {\n",
              "        vertical-align: top;\n",
              "    }\n",
              "\n",
              "    .dataframe thead th {\n",
              "        text-align: right;\n",
              "    }\n",
              "</style>\n",
              "<table border=\"1\" class=\"dataframe\">\n",
              "  <thead>\n",
              "    <tr style=\"text-align: right;\">\n",
              "      <th></th>\n",
              "      <th>0</th>\n",
              "      <th>1</th>\n",
              "      <th>2</th>\n",
              "    </tr>\n",
              "  </thead>\n",
              "  <tbody>\n",
              "    <tr>\n",
              "      <th>cod_tecn</th>\n",
              "      <td>VB103689</td>\n",
              "      <td>VB104104</td>\n",
              "      <td>VB104104</td>\n",
              "    </tr>\n",
              "    <tr>\n",
              "      <th>nome_tecn</th>\n",
              "      <td>ITALO LINEU SILVEIRA RODRIGUES</td>\n",
              "      <td>JOSELUCIO ROSA DE ANDRADE</td>\n",
              "      <td>JOSELUCIO ROSA DE ANDRADE</td>\n",
              "    </tr>\n",
              "    <tr>\n",
              "      <th>status_tecn</th>\n",
              "      <td>OP</td>\n",
              "      <td>OP</td>\n",
              "      <td>OP</td>\n",
              "    </tr>\n",
              "    <tr>\n",
              "      <th>espec_tecn</th>\n",
              "      <td>MREF</td>\n",
              "      <td>HIDR</td>\n",
              "      <td>HIDR</td>\n",
              "    </tr>\n",
              "    <tr>\n",
              "      <th>denom_espec_tecn</th>\n",
              "      <td>MECÂNICA E REFRIGERAÇÃO</td>\n",
              "      <td>HIDRAULICA</td>\n",
              "      <td>HIDRAULICA</td>\n",
              "    </tr>\n",
              "    <tr>\n",
              "      <th>escala</th>\n",
              "      <td>12X36</td>\n",
              "      <td>5X2</td>\n",
              "      <td>5X2</td>\n",
              "    </tr>\n",
              "    <tr>\n",
              "      <th>data_apont_tecn</th>\n",
              "      <td>2020-01-01 00:00:00.000</td>\n",
              "      <td>2020-01-01 00:00:00.000</td>\n",
              "      <td>2020-01-01 00:00:00.000</td>\n",
              "    </tr>\n",
              "    <tr>\n",
              "      <th>OS_trabalhada</th>\n",
              "      <td>249866</td>\n",
              "      <td>248165</td>\n",
              "      <td>248195</td>\n",
              "    </tr>\n",
              "    <tr>\n",
              "      <th>tempo_trabalhado</th>\n",
              "      <td>00:30:00</td>\n",
              "      <td>00:24:00</td>\n",
              "      <td>00:43:00</td>\n",
              "    </tr>\n",
              "    <tr>\n",
              "      <th>tempo_real_mes</th>\n",
              "      <td>1900-01-06 14:00:00</td>\n",
              "      <td>1900-01-07 20:30:00</td>\n",
              "      <td>1900-01-07 20:30:00</td>\n",
              "    </tr>\n",
              "  </tbody>\n",
              "</table>\n",
              "</div>"
            ],
            "text/plain": [
              "                                               0  ...                          2\n",
              "cod_tecn                                VB103689  ...                   VB104104\n",
              "nome_tecn         ITALO LINEU SILVEIRA RODRIGUES  ...  JOSELUCIO ROSA DE ANDRADE\n",
              "status_tecn                                   OP  ...                         OP\n",
              "espec_tecn                                  MREF  ...                       HIDR\n",
              "denom_espec_tecn         MECÂNICA E REFRIGERAÇÃO  ...                 HIDRAULICA\n",
              "escala                                     12X36  ...                        5X2\n",
              "data_apont_tecn          2020-01-01 00:00:00.000  ...    2020-01-01 00:00:00.000\n",
              "OS_trabalhada                             249866  ...                     248195\n",
              "tempo_trabalhado                        00:30:00  ...                   00:43:00\n",
              "tempo_real_mes               1900-01-06 14:00:00  ...        1900-01-07 20:30:00\n",
              "\n",
              "[10 rows x 3 columns]"
            ]
          },
          "metadata": {
            "tags": []
          },
          "execution_count": 8
        }
      ]
    },
    {
      "cell_type": "markdown",
      "metadata": {
        "id": "B55wXDUvJRYr"
      },
      "source": [
        "# 4. Limpeza dos dataframes"
      ]
    },
    {
      "cell_type": "code",
      "metadata": {
        "id": "6nroXxUrQ6Z5"
      },
      "source": [
        "def convert_to_col_type(df, df_columns, col_type):\n",
        "    for col in df_columns:\n",
        "        df[col] = df[col].astype(col_type)\n",
        "    return df"
      ],
      "execution_count": 9,
      "outputs": []
    },
    {
      "cell_type": "code",
      "metadata": {
        "id": "EFRw0u1NMIAu"
      },
      "source": [
        "# carrega os_geral e limpa tipos de dados\n",
        "colunas_com_datas = ['DATA_CRIACAO', 'DATA_VL', 'DATA_CO', 'Data_Real', 'ABERTURA_OS', 'PREV_ATENDIMENTO', 'completionScheduled']\n",
        "os_geral = pd.read_excel('db_os_geral.xlsx', parse_dates=colunas_com_datas)\n",
        "os_geral.columns = [c.upper() for c in os_geral.columns]\n",
        "os_geral['TP_OS'] = 'GERAL'\n",
        "\n",
        "# convert categorical columns to categorical\n",
        "colunas_categoricas = ['ATIVIDADE', 'DENOM_CLASSE_TRAB', 'ESTADO_OS', 'ASSETNAME', 'ESTADO_OS', 'DESCRIÇÃO CLASSE DE EQUIPAMENTO', 'UNIDADE_NEGOCIO', 'TP_OS']\n",
        "os_geral = convert_to_col_type(os_geral, colunas_categoricas, 'category')\n",
        "\n",
        "# select just columns to be used\n",
        "cols = ['NUM_OS', 'ESTADO_OS', 'TP_OS', 'DENOM_OS', 'DENOM_CLASSE_TRAB', 'DATA_REAL', 'DATA_CRIACAO', 'ABERTURA_OS', 'PREV_ATENDIMENTO', 'DATA_CO',\n",
        "        'ASSETNAME', 'UNIDADE_NEGOCIO', 'ATIVIDADE', 'DESCRIÇÃO CLASSE DE EQUIPAMENTO']\n",
        "df_geral = os_geral[cols]"
      ],
      "execution_count": 10,
      "outputs": []
    },
    {
      "cell_type": "code",
      "metadata": {
        "id": "6DEVzLwUIsd8"
      },
      "source": [
        "# filtra somente os ja concluidas e remove linhas com valores nules em alguma coluna\n",
        "os_em_aberto = df_geral['DATA_CO'].isna()\n",
        "df_geral_concluidas = df_geral[~os_em_aberto].dropna()\n",
        "\n",
        "# ajusta tipos de dados pendetes\n",
        "df_geral_concluidas = convert_to_col_type(df_geral_concluidas, ['DATA_REAL', 'PREV_ATENDIMENTO', 'DATA_CO'], 'datetime64[ns]')"
      ],
      "execution_count": 11,
      "outputs": []
    },
    {
      "cell_type": "code",
      "metadata": {
        "id": "RgLanQsEIslZ"
      },
      "source": [
        "# calcula, em minutos, quanto tempo cada tarefa demorou para ser executada\n",
        "df_geral_concluidas['EXEC_TIME'] = (df_geral_concluidas['DATA_CO'] - df_geral_concluidas['DATA_REAL'])\n",
        "df_geral_concluidas['EXEC_TIME'] = df_geral_concluidas['EXEC_TIME'].apply(lambda x: x.total_seconds() / 60)"
      ],
      "execution_count": 12,
      "outputs": []
    },
    {
      "cell_type": "markdown",
      "metadata": {
        "id": "2I4n019uPbe7"
      },
      "source": [
        "# 5. Histogramas das durações de cada classe de trabalho da OS_GERAL"
      ]
    },
    {
      "cell_type": "code",
      "metadata": {
        "id": "GCw7_sBiIsjq",
        "outputId": "32337ed9-b725-422f-f019-a1326e4f2c96",
        "colab": {
          "base_uri": "https://localhost:8080/",
          "height": 1000
        }
      },
      "source": [
        "plt.style.use('dark_background')\n",
        "fig, ax = plt.subplots(5, 2, figsize=(18, 15))\n",
        "\n",
        "for i, classe in enumerate(df_geral_concluidas.DENOM_CLASSE_TRAB.unique()):\n",
        "    r = i // 2\n",
        "    c = i % 2\n",
        "    aux = df_geral_concluidas[df_geral_concluidas['DENOM_CLASSE_TRAB'] == classe]['EXEC_TIME']\n",
        "    # plot ate o percentil 96, para evitar outliers\n",
        "    std = np.std(aux)\n",
        "    filtro = np.mean(aux) + (std * 1.5)\n",
        "    _ = sns.distplot(aux[aux <= filtro], ax=ax[r, c], bins=20)\n",
        "    ax[r, c].set_title(classe, fontsize=15)\n",
        "\n",
        "fig.tight_layout()\n",
        "plt.show()"
      ],
      "execution_count": 13,
      "outputs": [
        {
          "output_type": "stream",
          "text": [
            "/usr/local/lib/python3.6/dist-packages/seaborn/distributions.py:283: UserWarning: Data must have variance to compute a kernel density estimate.\n",
            "  warnings.warn(msg, UserWarning)\n"
          ],
          "name": "stderr"
        },
        {
          "output_type": "display_data",
          "data": {
            "image/png": "[encoded data removed]",
            "text/plain": [
              "<Figure size 1296x1080 with 10 Axes>"
            ]
          },
          "metadata": {
            "tags": []
          }
        }
      ]
    },
    {
      "cell_type": "markdown",
      "metadata": {
        "id": "uBf_2e0iXuZD"
      },
      "source": [
        "# 6. Modelagem do Algoritmo de Regressão"
      ]
    },
    {
      "cell_type": "code",
      "metadata": {
        "id": "bTmUk800Xe3M"
      },
      "source": [
        "from sklearn.tree import DecisionTreeRegressor\n",
        "from sklearn.ensemble import RandomForestRegressor, AdaBoostRegressor\n",
        "from sklearn.linear_model import LinearRegression\n",
        "from sklearn.metrics import mean_squared_error\n",
        "from sklearn.model_selection import train_test_split"
      ],
      "execution_count": 61,
      "outputs": []
    },
    {
      "cell_type": "code",
      "metadata": {
        "id": "28EZUM2GY_lt"
      },
      "source": [
        "rm_cols = [c for c in df_geral_concluidas.columns if c not in ('DATA_REAL', 'DATA_CRIACAO', 'ABERTURA_OS', 'PREV_ATENDIMENTO', 'DATA_CO', 'ESTADO_OS', 'DENOM_OS')]"
      ],
      "execution_count": 62,
      "outputs": []
    },
    {
      "cell_type": "code",
      "metadata": {
        "id": "rm9YY52PZ-zr",
        "outputId": "2cf35af1-8743-43fb-e5d7-a49bcbd59013",
        "colab": {
          "base_uri": "https://localhost:8080/",
          "height": 34
        }
      },
      "source": [
        "# calculo do desvio padrao do tempo gasto para execucao de cada os\n",
        "std = np.std(df_geral_concluidas['EXEC_TIME']) * 1.5\n",
        "media = np.mean(df_geral_concluidas['EXEC_TIME'])\n",
        "\n",
        "# remove outliers da base de dados principal, removendo dados 1.5 desvio padrao da media\n",
        "filtro = (df_geral_concluidas['EXEC_TIME'] <= (media) + std) & (df_geral_concluidas['EXEC_TIME'] >= (media) - std)\n",
        "df_std = df_geral_concluidas[filtro]\n",
        "\n",
        "\n",
        "# aplica one-hot enconding para deixar a base pronta para treinamento\n",
        "cols_para_treino = ['DENOM_CLASSE_TRAB', 'ATIVIDADE', 'DESCRIÇÃO CLASSE DE EQUIPAMENTO', 'EXEC_TIME']\n",
        "df_aux = df_std[cols_para_treino]\n",
        "df = pd.get_dummies(df_aux)\n",
        "\n",
        "# valida o numero total de dimensoes do dataset\n",
        "print(df.shape)"
      ],
      "execution_count": 130,
      "outputs": [
        {
          "output_type": "stream",
          "text": [
            "(23189, 114)\n"
          ],
          "name": "stdout"
        }
      ]
    },
    {
      "cell_type": "code",
      "metadata": {
        "id": "cNKZVWd-Xflw"
      },
      "source": [
        "# divide conjuntos de treinamento e teste\n",
        "y = df['EXEC_TIME']\n",
        "X = df.drop('EXEC_TIME', axis=1)\n",
        "X_train, X_test, y_train, y_test = train_test_split(X, y, test_size=.2, random_state=42)"
      ],
      "execution_count": 131,
      "outputs": []
    },
    {
      "cell_type": "code",
      "metadata": {
        "id": "WYA36jfpXfpU",
        "outputId": "679ec04b-b200-4925-affc-86f59ba4970f",
        "colab": {
          "base_uri": "https://localhost:8080/",
          "height": 382
        }
      },
      "source": [
        "# validacao de melhor valor de depth para arvore de decisao\n",
        "for x in range(5, 26):\n",
        "    dt = DecisionTreeRegressor(max_depth=x, random_state=42)\n",
        "    dt.fit(X_train, y_train)\n",
        "    y_pred = dt.predict(X_test)\n",
        "    rmse = np.sqrt(mean_squared_error(y_test, y_pred))\n",
        "    print('RMSE = {} \\tDEPTH = {}'.format(rmse, x))"
      ],
      "execution_count": 18,
      "outputs": [
        {
          "output_type": "stream",
          "text": [
            "RMSE = 5188.127743162354 \tDEPTH = 5\n",
            "RMSE = 5168.8582125721505 \tDEPTH = 6\n",
            "RMSE = 5152.512623354832 \tDEPTH = 7\n",
            "RMSE = 5141.81256820408 \tDEPTH = 8\n",
            "RMSE = 5128.531177075535 \tDEPTH = 9\n",
            "RMSE = 5122.318350671635 \tDEPTH = 10\n",
            "RMSE = 5119.629139282793 \tDEPTH = 11\n",
            "RMSE = 5113.963145569213 \tDEPTH = 12\n",
            "RMSE = 5110.869794119401 \tDEPTH = 13\n",
            "RMSE = 5104.576468695583 \tDEPTH = 14\n",
            "RMSE = 5106.561296981265 \tDEPTH = 15\n",
            "RMSE = 5105.926714682399 \tDEPTH = 16\n",
            "RMSE = 5099.650744299957 \tDEPTH = 17\n",
            "RMSE = 5099.26923157287 \tDEPTH = 18\n",
            "RMSE = 5093.266100722131 \tDEPTH = 19\n",
            "RMSE = 5091.763607530809 \tDEPTH = 20\n",
            "RMSE = 5091.491353706119 \tDEPTH = 21\n",
            "RMSE = 5091.39664686754 \tDEPTH = 22\n",
            "RMSE = 5091.54368135302 \tDEPTH = 23\n",
            "RMSE = 5087.878020243305 \tDEPTH = 24\n",
            "RMSE = 5089.400619171476 \tDEPTH = 25\n"
          ],
          "name": "stdout"
        }
      ]
    },
    {
      "cell_type": "code",
      "metadata": {
        "id": "BBUc9QA4TTMk",
        "outputId": "05608a3c-0923-4b39-e1c8-617c251e2f9f",
        "colab": {
          "base_uri": "https://localhost:8080/",
          "height": 382
        }
      },
      "source": [
        "# validacao de melhor random forest\n",
        "for x in range(5, 26):\n",
        "    dt = RandomForestRegressor(max_depth=x, random_state=42)\n",
        "    dt.fit(X_train, y_train)\n",
        "    y_pred = dt.predict(X_test)\n",
        "    rmse = np.sqrt(mean_squared_error(y_test, y_pred))\n",
        "    print('RMSE = {} \\tDEPTH = {}'.format(rmse, x))"
      ],
      "execution_count": 19,
      "outputs": [
        {
          "output_type": "stream",
          "text": [
            "RMSE = 5166.365441027028 \tDEPTH = 5\n",
            "RMSE = 5143.6074994238315 \tDEPTH = 6\n",
            "RMSE = 5124.550138575193 \tDEPTH = 7\n",
            "RMSE = 5116.570835280644 \tDEPTH = 8\n",
            "RMSE = 5105.024142541122 \tDEPTH = 9\n",
            "RMSE = 5097.693078651948 \tDEPTH = 10\n",
            "RMSE = 5091.101837349828 \tDEPTH = 11\n",
            "RMSE = 5085.730252887498 \tDEPTH = 12\n",
            "RMSE = 5081.593144604423 \tDEPTH = 13\n",
            "RMSE = 5078.184153970398 \tDEPTH = 14\n",
            "RMSE = 5075.064674188266 \tDEPTH = 15\n",
            "RMSE = 5072.89965645063 \tDEPTH = 16\n",
            "RMSE = 5071.443586126638 \tDEPTH = 17\n",
            "RMSE = 5071.110581957682 \tDEPTH = 18\n",
            "RMSE = 5070.110309432846 \tDEPTH = 19\n",
            "RMSE = 5068.919789482068 \tDEPTH = 20\n",
            "RMSE = 5068.631965613041 \tDEPTH = 21\n",
            "RMSE = 5068.092697165711 \tDEPTH = 22\n",
            "RMSE = 5067.318802982569 \tDEPTH = 23\n",
            "RMSE = 5067.314710689639 \tDEPTH = 24\n",
            "RMSE = 5066.882247367588 \tDEPTH = 25\n"
          ],
          "name": "stdout"
        }
      ]
    },
    {
      "cell_type": "code",
      "metadata": {
        "id": "vc-Yl0p4Okfn"
      },
      "source": [
        "# valida comparacao de modelos de regressao\n",
        "models = {'linear' : LinearRegression(),\n",
        "          'decision_tree': DecisionTreeRegressor(max_depth=23),\n",
        "          'random_forest': RandomForestRegressor(max_depth=20, random_state=42)}"
      ],
      "execution_count": 22,
      "outputs": []
    },
    {
      "cell_type": "code",
      "metadata": {
        "id": "astSCK2TX2JG"
      },
      "source": [
        "def validate_models(aux_dict, target_model):\n",
        "    model = aux_dict.get(target_model)\n",
        "    model.fit(X_train, y_train)\n",
        "    y_pred = model.predict(X_test)\n",
        "    rmse = np.sqrt(mean_squared_error(y_test, y_pred))\n",
        "    print('MODEL = {}\\t RMSE = {}'.format(target_model, rmse))"
      ],
      "execution_count": 23,
      "outputs": []
    },
    {
      "cell_type": "code",
      "metadata": {
        "id": "lYjf0HTEX2MT",
        "outputId": "92e57b68-581a-4e30-97cc-304018218dc9",
        "colab": {
          "base_uri": "https://localhost:8080/",
          "height": 69
        }
      },
      "source": [
        "# valida o RMSE para decidir qual modelo usar na nossa API\n",
        "for regressor in models:\n",
        "    validate_models(models, regressor)"
      ],
      "execution_count": 24,
      "outputs": [
        {
          "output_type": "stream",
          "text": [
            "MODEL = linear\t RMSE = 12500138930197.8\n",
            "MODEL = decision_tree\t RMSE = 5091.54368135302\n",
            "MODEL = random_forest\t RMSE = 5068.919789482068\n"
          ],
          "name": "stdout"
        }
      ]
    },
    {
      "cell_type": "markdown",
      "metadata": {
        "id": "Dhnkr2q0kBOj"
      },
      "source": [
        "# 7. Modelagem do Classificador de Prioridades"
      ]
    },
    {
      "cell_type": "code",
      "metadata": {
        "id": "X9SANl-eX2Vh"
      },
      "source": [
        "# prepara df base\n",
        "cols_para_treino = ['DENOM_OS', 'DENOM_CLASSE_TRAB', 'ATIVIDADE', 'DESCRIÇÃO CLASSE DE EQUIPAMENTO']\n",
        "df_aux = df_std[cols_para_treino]"
      ],
      "execution_count": 139,
      "outputs": []
    },
    {
      "cell_type": "code",
      "metadata": {
        "id": "ViPeOBJjkFSg"
      },
      "source": [
        "def tarefa_critica(desc):\n",
        "    '''VALIDA SE A DESCRICAO DA OS E CRITICA'''\n",
        "\n",
        "    palavras_chave = ['CRITI', 'EMERG', 'QUEBR', 'VAZAMEN']\n",
        "    for palavra in palavras_chave:\n",
        "        if palavra in desc:\n",
        "            return True\n",
        "    return False       \n",
        "\n",
        "\n",
        "\n",
        "def classifica_prioridade(row):\n",
        "    '''CLASSIFICA A PRIORIDADE DE CADA OS'''\n",
        "\n",
        "    if tarefa_critica(row['DENOM_OS']):\n",
        "        return '1-HIGH'\n",
        "    elif row['DENOM_CLASSE_TRAB'] in ('CORRETIVA EMERGÊNCIAL', 'CHAMADO'):\n",
        "        return '2-MEDIUM'\n",
        "    else:\n",
        "        return '3-LOW'"
      ],
      "execution_count": 140,
      "outputs": []
    },
    {
      "cell_type": "code",
      "metadata": {
        "id": "prBFktafkFXo",
        "outputId": "b2faf97b-dff8-4326-dd06-8f0c3a48fd4b",
        "colab": {
          "base_uri": "https://localhost:8080/",
          "height": 225
        }
      },
      "source": [
        "# cria feature de prioridade, usando palavras chaves e outros criterios / regras de negocio\n",
        "df_aux['PRIORIDADE'] = df_aux.apply(lambda x: classifica_prioridade(x), axis=1)\n",
        "\n",
        "# valida se a feature criada eh consistente\n",
        "print(df_aux.PRIORIDADE.value_counts(), '\\n\\n')"
      ],
      "execution_count": 141,
      "outputs": [
        {
          "output_type": "stream",
          "text": [
            "3-LOW       13168\n",
            "2-MEDIUM     9193\n",
            "1-HIGH        828\n",
            "Name: PRIORIDADE, dtype: int64 \n",
            "\n",
            "\n"
          ],
          "name": "stdout"
        },
        {
          "output_type": "stream",
          "text": [
            "/usr/local/lib/python3.6/dist-packages/ipykernel_launcher.py:2: SettingWithCopyWarning: \n",
            "A value is trying to be set on a copy of a slice from a DataFrame.\n",
            "Try using .loc[row_indexer,col_indexer] = value instead\n",
            "\n",
            "See the caveats in the documentation: https://pandas.pydata.org/pandas-docs/stable/user_guide/indexing.html#returning-a-view-versus-a-copy\n",
            "  \n"
          ],
          "name": "stderr"
        }
      ]
    },
    {
      "cell_type": "code",
      "metadata": {
        "id": "gCtawUpyp8dH"
      },
      "source": [
        "from sklearn.neighbors import KNeighborsClassifier\n",
        "from sklearn.ensemble import RandomForestClassifier\n",
        "from sklearn.metrics import accuracy_score"
      ],
      "execution_count": 142,
      "outputs": []
    },
    {
      "cell_type": "code",
      "metadata": {
        "id": "ztxTtgPGkFa_"
      },
      "source": [
        "y = pd.get_dummies(df_aux['PRIORIDADE'])\n",
        "X = pd.get_dummies(df_aux.drop('PRIORIDADE', axis=1))\n",
        "X_train, X_test, y_train, y_test = train_test_split(X, y, test_size=.2, random_state=42)"
      ],
      "execution_count": 143,
      "outputs": []
    },
    {
      "cell_type": "code",
      "metadata": {
        "id": "0QRnm_GCkFVR",
        "outputId": "d4985278-c914-4289-8bd7-77c038d71e88",
        "colab": {
          "base_uri": "https://localhost:8080/",
          "height": 34
        }
      },
      "source": [
        "# valida acuracia do KNN\n",
        "knn = KNeighborsClassifier(n_neighbors=3)\n",
        "knn.fit(X_train, y_train)\n",
        "y_pred = knn.predict(X_test)\n",
        "print(accuracy_score(y_test, y_pred))"
      ],
      "execution_count": 144,
      "outputs": [
        {
          "output_type": "stream",
          "text": [
            "0.9976282880551962\n"
          ],
          "name": "stdout"
        }
      ]
    },
    {
      "cell_type": "code",
      "metadata": {
        "id": "vbv5lEIzvRkN",
        "outputId": "f92fddec-0d89-48b3-9611-6af523ce2655",
        "colab": {
          "base_uri": "https://localhost:8080/",
          "height": 434
        }
      },
      "source": [
        "# valida acuracia do random forest\n",
        "for x in range(2, 26):\n",
        "    rf = RandomForestClassifier(max_depth=x, random_state=42)\n",
        "    rf.fit(X_train, y_train)\n",
        "    y_pred = rf.predict(X_test)\n",
        "    print('ACURACIA = {}\\tDEPTH = {}'.format(accuracy_score(y_test, y_pred), x))"
      ],
      "execution_count": 145,
      "outputs": [
        {
          "output_type": "stream",
          "text": [
            "ACURACIA = 0.6634325140146615\tDEPTH = 2\n",
            "ACURACIA = 0.9253988788270806\tDEPTH = 3\n",
            "ACURACIA = 0.9607589478223372\tDEPTH = 4\n",
            "ACURACIA = 0.9639931004743424\tDEPTH = 5\n",
            "ACURACIA = 0.9639931004743424\tDEPTH = 6\n",
            "ACURACIA = 0.9639931004743424\tDEPTH = 7\n",
            "ACURACIA = 0.9639931004743424\tDEPTH = 8\n",
            "ACURACIA = 0.9639931004743424\tDEPTH = 9\n",
            "ACURACIA = 0.9639931004743424\tDEPTH = 10\n",
            "ACURACIA = 0.9676584734799483\tDEPTH = 11\n",
            "ACURACIA = 0.9715394566623544\tDEPTH = 12\n",
            "ACURACIA = 0.9831824062095731\tDEPTH = 13\n",
            "ACURACIA = 0.9797326433807676\tDEPTH = 14\n",
            "ACURACIA = 0.9831824062095731\tDEPTH = 15\n",
            "ACURACIA = 0.9846916774471756\tDEPTH = 16\n",
            "ACURACIA = 0.9857697283311773\tDEPTH = 17\n",
            "ACURACIA = 0.9859853385079775\tDEPTH = 18\n",
            "ACURACIA = 0.9859853385079775\tDEPTH = 19\n",
            "ACURACIA = 0.9870633893919794\tDEPTH = 20\n",
            "ACURACIA = 0.9872789995687796\tDEPTH = 21\n",
            "ACURACIA = 0.9883570504527813\tDEPTH = 22\n",
            "ACURACIA = 0.9907287623975851\tDEPTH = 23\n",
            "ACURACIA = 0.9909443725743855\tDEPTH = 24\n",
            "ACURACIA = 0.9911599827511859\tDEPTH = 25\n"
          ],
          "name": "stdout"
        }
      ]
    },
    {
      "cell_type": "markdown",
      "metadata": {
        "id": "vAm6KmQR6KDC"
      },
      "source": [
        "# Solução desejada\n",
        "* priorizaçao de tarefas automatizada\n",
        "* estimativa de tempo por tipo de tarefa\n",
        "* despacho automatico (automaticamente alocar tarefas conforme conclusao de OS)\n",
        "* alocacao baseada no capacity do dia de cada recurso\n",
        "\n",
        "---\n",
        "\n",
        "## MVP\n",
        "API com 3 microsserviços em Flaks que recebe como input OS abertas e retorna:\n",
        "\n",
        "1. tempo estimado de execução da OS (RandomForestClassifier)\n",
        "2. classificação automática da prioridade da OS (KNN)\n",
        "3. despacho automático da OS para o tecnico dísponível\n",
        "\n",
        "Esta API seria integrada ao PRISMA ou o serviço de OS já implantado na Vivante, sem necessidade de substituição da ferramenta já existente.\n"
      ]
    },
    {
      "cell_type": "code",
      "metadata": {
        "id": "rDpjn5l3E1fe"
      },
      "source": [
        ""
      ],
      "execution_count": null,
      "outputs": []
    }
  ]
}