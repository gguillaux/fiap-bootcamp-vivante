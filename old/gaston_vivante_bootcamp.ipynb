{
  "nbformat": 4,
  "nbformat_minor": 0,
  "metadata": {
    "colab": {
      "name": "gaston_vivante_bootcamp",
      "provenance": [],
      "collapsed_sections": [],
      "authorship_tag": "ABX9TyPZxviJS2VvCblc9S7JnYVm",
      "include_colab_link": true
    },
    "kernelspec": {
      "name": "python3",
      "display_name": "Python 3"
    }
  },
  "cells": [
    {
      "cell_type": "markdown",
      "metadata": {
        "id": "view-in-github",
        "colab_type": "text"
      },
      "source": [
        "<a href=\"https://colab.research.google.com/github/gguillaux/fiap-bootcamp-vivante/blob/master/gaston_vivante_bootcamp.ipynb\" target=\"_parent\"><img src=\"https://colab.research.google.com/assets/colab-badge.svg\" alt=\"Open In Colab\"/></a>"
      ]
    },
    {
      "cell_type": "markdown",
      "metadata": {
        "id": "GMa58OQH0ecH",
        "colab_type": "text"
      },
      "source": [
        "# Tabelas\n",
        "* Cópia de TÉCNICOS_XLX.xlsx -> descrição dos técnicos que atuaram em cada os\n",
        "\n",
        "# Possiveis abordagens\n",
        "* validar produtividade / ociosidade dos diferentes tecnicos em relaçao ao numero de OS atendidas"
      ]
    },
    {
      "cell_type": "code",
      "metadata": {
        "id": "hTYbpcuR1mI4",
        "colab_type": "code",
        "colab": {
          "base_uri": "https://localhost:8080/",
          "height": 52
        },
        "outputId": "82714b28-f128-4add-892a-076eb0a4bee3"
      },
      "source": [
        "# !rm -r fiap-bootcamp-vivante\n",
        "# !git clone https://github.com/gguillaux/fiap-bootcamp-vivante.git\n",
        "!ls dataset"
      ],
      "execution_count": 11,
      "outputs": [
        {
          "output_type": "stream",
          "text": [
            "db_ordem_servico_busca_complexa.xlsx  db_roteiros_busca_simples.xlsx\n",
            "db_os_geral.xlsx\t\t      db_tecnicos.xlsx\n"
          ],
          "name": "stdout"
        }
      ]
    },
    {
      "cell_type": "code",
      "metadata": {
        "id": "oSd--tC_xMLz",
        "colab_type": "code",
        "colab": {}
      },
      "source": [
        "import os\n",
        "import numpy as np\n",
        "import pandas as pd\n",
        "import seaborn as sns\n",
        "from matplotlib import pyplot as plt"
      ],
      "execution_count": 18,
      "outputs": []
    },
    {
      "cell_type": "code",
      "metadata": {
        "id": "6nroXxUrQ6Z5",
        "colab_type": "code",
        "colab": {}
      },
      "source": [
        "def convert_to_category(df, df_columns):\n",
        "    for col in df_columns:\n",
        "        df[col] = df[col].astype('category')\n",
        "    return df"
      ],
      "execution_count": 97,
      "outputs": []
    },
    {
      "cell_type": "code",
      "metadata": {
        "id": "EFRw0u1NMIAu",
        "colab_type": "code",
        "colab": {}
      },
      "source": [
        "# read file\n",
        "colunas_com_datas = ['DATA_CRIACAO', 'DATA_VL', 'DATA_CO', 'Data_Real', 'ABERTURA_OS', 'PREV_ATENDIMENTO', 'completionScheduled']\n",
        "os_geral = pd.read_excel('dataset/db_os_geral.xlsx', parse_dates=colunas_com_datas)\n",
        "\n",
        "# convert categorical columns to categorical\n",
        "colunas_categoricas = ['ATIVIDADE', 'DENOM_CLASSE_TRAB', 'ESTADO_OS', 'assetName', 'ESTADO_OS', 'Descrição Classe de equipamento']\n",
        "os_geral = convert_to_category(os_geral, colunas_categoricas)\n",
        "\n",
        "# drop columns\n",
        "columns_to_drop = ['Ativo', 'company', 'ROTEIRO', 'Classe de equipamento', 'priority']\n",
        "os_geral.drop(columns=columns_to_drop, inplace=True)"
      ],
      "execution_count": 137,
      "outputs": []
    },
    {
      "cell_type": "code",
      "metadata": {
        "id": "BA3eydtnzk9J",
        "colab_type": "code",
        "colab": {}
      },
      "source": [
        "colunas_com_datas = ['Data da Criação',  'Data/Hora Abertura',  'Data/Hora de Conclusão',  'Data Início Trabalho',  'Data Final Trabalho']\n",
        "os_complexa = pd.read_excel('dataset/db_ordem_servico_busca_complexa.xlsx', parse_dates=colunas_com_datas)"
      ],
      "execution_count": 46,
      "outputs": []
    },
    {
      "cell_type": "code",
      "metadata": {
        "id": "w2snSfrz1AHk",
        "colab_type": "code",
        "colab": {
          "base_uri": "https://localhost:8080/",
          "height": 143
        },
        "outputId": "e5e07350-80da-49fa-f287-40649630fdfb"
      },
      "source": [
        "os_geral.corr()"
      ],
      "execution_count": 51,
      "outputs": [
        {
          "output_type": "execute_result",
          "data": {
            "text/html": [
              "<div>\n",
              "<style scoped>\n",
              "    .dataframe tbody tr th:only-of-type {\n",
              "        vertical-align: middle;\n",
              "    }\n",
              "\n",
              "    .dataframe tbody tr th {\n",
              "        vertical-align: top;\n",
              "    }\n",
              "\n",
              "    .dataframe thead th {\n",
              "        text-align: right;\n",
              "    }\n",
              "</style>\n",
              "<table border=\"1\" class=\"dataframe\">\n",
              "  <thead>\n",
              "    <tr style=\"text-align: right;\">\n",
              "      <th></th>\n",
              "      <th>NUM_OS</th>\n",
              "      <th>ORIGEM_OS</th>\n",
              "      <th>priority</th>\n",
              "    </tr>\n",
              "  </thead>\n",
              "  <tbody>\n",
              "    <tr>\n",
              "      <th>NUM_OS</th>\n",
              "      <td>1.000000</td>\n",
              "      <td>0.043814</td>\n",
              "      <td>0.009081</td>\n",
              "    </tr>\n",
              "    <tr>\n",
              "      <th>ORIGEM_OS</th>\n",
              "      <td>0.043814</td>\n",
              "      <td>1.000000</td>\n",
              "      <td>0.007658</td>\n",
              "    </tr>\n",
              "    <tr>\n",
              "      <th>priority</th>\n",
              "      <td>0.009081</td>\n",
              "      <td>0.007658</td>\n",
              "      <td>1.000000</td>\n",
              "    </tr>\n",
              "  </tbody>\n",
              "</table>\n",
              "</div>"
            ],
            "text/plain": [
              "             NUM_OS  ORIGEM_OS  priority\n",
              "NUM_OS     1.000000   0.043814  0.009081\n",
              "ORIGEM_OS  0.043814   1.000000  0.007658\n",
              "priority   0.009081   0.007658  1.000000"
            ]
          },
          "metadata": {
            "tags": []
          },
          "execution_count": 51
        }
      ]
    },
    {
      "cell_type": "code",
      "metadata": {
        "id": "z5nCelf-zlHL",
        "colab_type": "code",
        "colab": {}
      },
      "source": [
        "\n",
        "os_geral['DENOM_CLASSE_TRAB'] = os_geral['DENOM_CLASSE_TRAB'].astype('category')"
      ],
      "execution_count": 56,
      "outputs": []
    },
    {
      "cell_type": "code",
      "metadata": {
        "id": "Wq7_h7_oTl0a",
        "colab_type": "code",
        "colab": {}
      },
      "source": [
        "aux = os_geral.set_index('DATA_CRIACAO')"
      ],
      "execution_count": 73,
      "outputs": []
    },
    {
      "cell_type": "code",
      "metadata": {
        "id": "o1KLFQHzTl-A",
        "colab_type": "code",
        "colab": {
          "base_uri": "https://localhost:8080/",
          "height": 156
        },
        "outputId": "ddf45803-0979-4280-ad0f-906a104209b9"
      },
      "source": [
        "aux['2020':].index.month.value_counts().sort_index"
      ],
      "execution_count": 79,
      "outputs": [
        {
          "output_type": "execute_result",
          "data": {
            "text/plain": [
              "1    4356\n",
              "2    4377\n",
              "3    4261\n",
              "4    3569\n",
              "5    4711\n",
              "6    2946\n",
              "7    2372\n",
              "Name: DATA_CRIACAO, dtype: int64"
            ]
          },
          "metadata": {
            "tags": []
          },
          "execution_count": 79
        }
      ]
    },
    {
      "cell_type": "code",
      "metadata": {
        "id": "AN234OX8ggZV",
        "colab_type": "code",
        "colab": {
          "base_uri": "https://localhost:8080/",
          "height": 52
        },
        "outputId": "c133470d-c71e-49cf-fac5-5476fc84c069"
      },
      "source": [
        "os_geral['company'].value_counts()"
      ],
      "execution_count": 110,
      "outputs": [
        {
          "output_type": "execute_result",
          "data": {
            "text/plain": [
              "HMEB    28596\n",
              "Name: company, dtype: int64"
            ]
          },
          "metadata": {
            "tags": []
          },
          "execution_count": 110
        }
      ]
    },
    {
      "cell_type": "code",
      "metadata": {
        "id": "Q2_fTNiTggq9",
        "colab_type": "code",
        "colab": {
          "base_uri": "https://localhost:8080/",
          "height": 156
        },
        "outputId": "c11c22d6-f10c-4957-da4d-3229014173e6"
      },
      "source": [
        "os_geral.columns"
      ],
      "execution_count": 106,
      "outputs": [
        {
          "output_type": "execute_result",
          "data": {
            "text/plain": [
              "Index(['NUM_OS', 'Ativo', 'Descrição Ativo', 'Classe de equipamento',\n",
              "       'Descrição Classe de equipamento', 'company', 'completionScheduled',\n",
              "       'Solicitante_OS', 'DENOM_OS', 'ESTADO_OS', 'ORIGEM_OS', 'ABERTURA_OS',\n",
              "       'PREV_ATENDIMENTO', 'DATA_CRIACAO', 'ESTADO_VL', 'DATA_VL', 'ESTADO_CO',\n",
              "       'DATA_CO', 'DENOM_CLASSE_TRAB', 'priority', 'ATIVIDADE',\n",
              "       'UNIDADE_NEGOCIO', 'assetName', 'parentAssetN3', 'parentAssetNameN3',\n",
              "       'ROTEIRO', 'Data_Real'],\n",
              "      dtype='object')"
            ]
          },
          "metadata": {
            "tags": []
          },
          "execution_count": 106
        }
      ]
    },
    {
      "cell_type": "code",
      "metadata": {
        "id": "V1tZ104dTmFW",
        "colab_type": "code",
        "colab": {
          "base_uri": "https://localhost:8080/",
          "height": 225
        },
        "outputId": "8a24719b-308b-4972-acc7-9ef01188aad4"
      },
      "source": [
        "os_geral['completionScheduled'].value_counts()"
      ],
      "execution_count": 126,
      "outputs": [
        {
          "output_type": "execute_result",
          "data": {
            "text/plain": [
              "2020-01-16 09:00:00.000    64\n",
              "2020-06-10 20:10:00.000    43\n",
              "2020-06-06 09:10:00.000    23\n",
              "2020-06-02 23:00:00.000    23\n",
              "2020-05-30 09:15:00.000    22\n",
              "                           ..\n",
              "2020-06-12 04:35:00.000     1\n",
              "2020-01-25 00:11:00.000     1\n",
              "2020-06-25 02:43:00.000     1\n",
              "2020-02-03 22:53:00.000     1\n",
              "2020-05-26 08:00:00.000     1\n",
              "Name: completionScheduled, Length: 11412, dtype: int64"
            ]
          },
          "metadata": {
            "tags": []
          },
          "execution_count": 126
        }
      ]
    },
    {
      "cell_type": "code",
      "metadata": {
        "id": "1dzdk8m0Tl6N",
        "colab_type": "code",
        "colab": {
          "base_uri": "https://localhost:8080/",
          "height": 538
        },
        "outputId": "8abfe543-4130-4c1f-dcb7-31021536bda3"
      },
      "source": [
        "os_geral.info()"
      ],
      "execution_count": 136,
      "outputs": [
        {
          "output_type": "stream",
          "text": [
            "<class 'pandas.core.frame.DataFrame'>\n",
            "RangeIndex: 28596 entries, 0 to 28595\n",
            "Data columns (total 23 columns):\n",
            " #   Column                           Non-Null Count  Dtype         \n",
            "---  ------                           --------------  -----         \n",
            " 0   NUM_OS                           28596 non-null  int64         \n",
            " 1   Descrição Ativo                  28596 non-null  object        \n",
            " 2   Descrição Classe de equipamento  28596 non-null  category      \n",
            " 3   completionScheduled              14919 non-null  object        \n",
            " 4   Solicitante_OS                   27615 non-null  object        \n",
            " 5   DENOM_OS                         28596 non-null  object        \n",
            " 6   ESTADO_OS                        28596 non-null  category      \n",
            " 7   ORIGEM_OS                        28596 non-null  int64         \n",
            " 8   ABERTURA_OS                      28596 non-null  datetime64[ns]\n",
            " 9   PREV_ATENDIMENTO                 28591 non-null  object        \n",
            " 10  DATA_CRIACAO                     28596 non-null  datetime64[ns]\n",
            " 11  ESTADO_VL                        22382 non-null  object        \n",
            " 12  DATA_VL                          22382 non-null  object        \n",
            " 13  ESTADO_CO                        26232 non-null  object        \n",
            " 14  DATA_CO                          26232 non-null  object        \n",
            " 15  DENOM_CLASSE_TRAB                28596 non-null  category      \n",
            " 16  priority                         14917 non-null  category      \n",
            " 17  ATIVIDADE                        28596 non-null  category      \n",
            " 18  UNIDADE_NEGOCIO                  28596 non-null  object        \n",
            " 19  assetName                        28596 non-null  category      \n",
            " 20  parentAssetN3                    28596 non-null  object        \n",
            " 21  parentAssetNameN3                28596 non-null  object        \n",
            " 22  Data_Real                        28594 non-null  object        \n",
            "dtypes: category(6), datetime64[ns](2), int64(2), object(13)\n",
            "memory usage: 4.0+ MB\n"
          ],
          "name": "stdout"
        }
      ]
    },
    {
      "cell_type": "code",
      "metadata": {
        "id": "siahlPcLxpxj",
        "colab_type": "code",
        "colab": {
          "base_uri": "https://localhost:8080/",
          "height": 208
        },
        "outputId": "b0e66abe-d045-4b35-8778-0ff7d7265a90"
      },
      "source": [
        "os_geral['DENOM_CLASSE_TRAB'].value_counts()"
      ],
      "execution_count": 139,
      "outputs": [
        {
          "output_type": "execute_result",
          "data": {
            "text/plain": [
              "PREVENTIVA SISTEMÁTICA         9785\n",
              "CORRETIVA EMERGÊNCIAL          9437\n",
              "ROTINA DE INSPEÇÃO             4185\n",
              "TREINAMENTO                    2587\n",
              "CORRETIVA PROGRAMADA           1964\n",
              "ATENDIMENTO DE SOLICITAÇÕES     565\n",
              "OBRA                             54\n",
              "CHAMADO                          10\n",
              "PREVENTIVA PROATIVA               8\n",
              "INSTALAÇÃO                        1\n",
              "Name: DENOM_CLASSE_TRAB, dtype: int64"
            ]
          },
          "metadata": {
            "tags": []
          },
          "execution_count": 139
        }
      ]
    },
    {
      "cell_type": "code",
      "metadata": {
        "id": "oU373z59xpz_",
        "colab_type": "code",
        "colab": {}
      },
      "source": [
        ""
      ],
      "execution_count": 72,
      "outputs": []
    },
    {
      "cell_type": "markdown",
      "metadata": {
        "id": "SxO2u_l9w-vo",
        "colab_type": "text"
      },
      "source": [
        "# o que é prioridade? 0 ou 1?  0 = alta, 1 = baixa?\n",
        "nao usar a coluna\n",
        "\n",
        "# como as os são alocadas para os técnicos. que critérios sao relevantes?\n",
        "\n",
        "\n",
        "# como urgencia / priorizacao é definida? FIFO / LIFO, etc\n",
        "cada tecnico define as prioridades das tarefas alocadas\n",
        "\n",
        "\n",
        "# manutençoes preventivas nao estao sendo efetivas em prevenir os emergenciais? precisamos de uma contextualtualizacao da vivante\n",
        "a correlação existe e não foi muito bem explicada\n",
        "\n",
        "\n",
        "\n",
        "# por que as preventivas sao feitas so no fim do mes, concentradas em um unico dia, e as corretivas programadas sao distribuidas?\n",
        "a percepção é incorreta. as preventivas sao abertas no fim do mes mas a sua implementação é frequente ao longo do mes\n",
        "\n",
        "# por que maio de 2020 teve uma alta de OS, apesar da pandemia?\n",
        "devido ao covid. houve maior fluxo de pessoas no hospital\n",
        "\n",
        "# o que é forro danificado?\n",
        "relacionada ao aumento do fluxo de pessoas no hospital devido ao covid\n",
        "\n",
        "\n",
        "# o que são os roteiros?\n",
        "descrição das atividades de manutenção de um equipamento que sao bem conhecidas e documentadas\n",
        "\n",
        "# o que sao fancoletes e fancoil?\n",
        "modelos de ar-condicionados\n",
        "\n",
        "\n",
        "\n",
        "# o que é codigo azul?\n",
        "\n",
        "# qual a diferença entre corretiva programada e preventiva programada?\n",
        "\n",
        "---\n",
        "## possiveis solucoes\n",
        "* microserviço que retorna tempo médio para solução da OS e melhor técnico para resolução\n",
        "\n",
        "* back-end baseado em eventos que a cada OS concluíída ja aloca o melhor técnico disponivel para cada OS\n",
        "\n",
        "* back-end que para cada OS aberta já define sua priorização\n",
        "\n",
        "* criar um botao no app para o tecnico reportar que esta disponivel\n"
      ]
    },
    {
      "cell_type": "markdown",
      "metadata": {
        "id": "vAm6KmQR6KDC",
        "colab_type": "text"
      },
      "source": [
        "# Solução desejada\n",
        "* priorizaçao de tarefas automatizada\n",
        "* estimativa de tempo por tipo de tarefa\n",
        "* despacho automatico (automaticamente alocar tarefas conforme conclusao de OS)\n",
        "* alocacao baseada no capacity do dia de cada recurso\n",
        "\n",
        "---\n",
        "\n",
        "## Possível MVP\n",
        "Nos propomos a criar uma solução que permita, de modo automático, enxergar todo o backlog de tickets abertos e programados, redefinir as priorizações baseadas em regras de negócio pré-definidas e considerando a disponibilidade de cada técnico, alocar automaticamente a sequência de tarefas."
      ]
    },
    {
      "cell_type": "code",
      "metadata": {
        "id": "RSJmUZR5Q0Ux",
        "colab_type": "code",
        "colab": {}
      },
      "source": [
        ""
      ],
      "execution_count": null,
      "outputs": []
    },
    {
      "cell_type": "code",
      "metadata": {
        "id": "TkYjKvsoQ0np",
        "colab_type": "code",
        "colab": {}
      },
      "source": [
        ""
      ],
      "execution_count": null,
      "outputs": []
    },
    {
      "cell_type": "code",
      "metadata": {
        "id": "wNZyd_iqxp2u",
        "colab_type": "code",
        "colab": {},
        "cellView": "form"
      },
      "source": [
        "#@title ENABLE TERMINAL ON COLAB\n",
        "from IPython.display import JSON\n",
        "from google.colab import output\n",
        "from subprocess import getoutput\n",
        "import os\n",
        "\n",
        "def shell(command):\n",
        "  if command.startswith('cd'):\n",
        "    path = command.strip().split(maxsplit=1)[1]\n",
        "    os.chdir(path)\n",
        "    return JSON([''])\n",
        "  return JSON([getoutput(command)])\n",
        "output.register_callback('shell', shell)"
      ],
      "execution_count": 5,
      "outputs": []
    },
    {
      "cell_type": "code",
      "metadata": {
        "id": "ABDPctN8xqKZ",
        "colab_type": "code",
        "colab": {
          "base_uri": "https://localhost:8080/",
          "height": 267
        },
        "cellView": "form",
        "outputId": "14b1e0e0-c256-45d6-8b37-f7206b759d51"
      },
      "source": [
        "#@title Colab Shell\n",
        "%%html\n",
        "<div id=term_demo></div>\n",
        "<script src=\"https://code.jquery.com/jquery-latest.js\"></script>\n",
        "<script src=\"https://cdn.jsdelivr.net/npm/jquery.terminal/js/jquery.terminal.min.js\"></script>\n",
        "<link href=\"https://cdn.jsdelivr.net/npm/jquery.terminal/css/jquery.terminal.min.css\" rel=\"stylesheet\"/>\n",
        "<script>\n",
        "  $('#term_demo').terminal(async function(command) {\n",
        "      if (command !== '') {\n",
        "          try {\n",
        "              let res = await google.colab.kernel.invokeFunction('shell', [command])\n",
        "              let out = res.data['application/json'][0]\n",
        "              this.echo(new String(out))\n",
        "          } catch(e) {\n",
        "              this.error(new String(e));\n",
        "          }\n",
        "      } else {\n",
        "          this.echo('');\n",
        "      }\n",
        "  }, {\n",
        "      greetings: 'Welcome to Colab Shell',\n",
        "      name: 'colab_demo',\n",
        "      height: 250,\n",
        "      prompt: 'colab > '\n",
        "  });"
      ],
      "execution_count": 6,
      "outputs": [
        {
          "output_type": "display_data",
          "data": {
            "text/html": [
              "<div id=term_demo></div>\n",
              "<script src=\"https://code.jquery.com/jquery-latest.js\"></script>\n",
              "<script src=\"https://cdn.jsdelivr.net/npm/jquery.terminal/js/jquery.terminal.min.js\"></script>\n",
              "<link href=\"https://cdn.jsdelivr.net/npm/jquery.terminal/css/jquery.terminal.min.css\" rel=\"stylesheet\"/>\n",
              "<script>\n",
              "  $('#term_demo').terminal(async function(command) {\n",
              "      if (command !== '') {\n",
              "          try {\n",
              "              let res = await google.colab.kernel.invokeFunction('shell', [command])\n",
              "              let out = res.data['application/json'][0]\n",
              "              this.echo(new String(out))\n",
              "          } catch(e) {\n",
              "              this.error(new String(e));\n",
              "          }\n",
              "      } else {\n",
              "          this.echo('');\n",
              "      }\n",
              "  }, {\n",
              "      greetings: 'Welcome to Colab Shell',\n",
              "      name: 'colab_demo',\n",
              "      height: 250,\n",
              "      prompt: 'colab > '\n",
              "  });"
            ],
            "text/plain": [
              "<IPython.core.display.HTML object>"
            ]
          },
          "metadata": {
            "tags": []
          }
        }
      ]
    }
  ]
}